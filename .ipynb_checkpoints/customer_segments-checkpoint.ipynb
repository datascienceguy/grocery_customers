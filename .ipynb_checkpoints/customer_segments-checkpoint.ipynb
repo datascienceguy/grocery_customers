{
 "cells": [
  {
   "cell_type": "markdown",
   "metadata": {},
   "source": [
    "# Creating Customer Segments"
   ]
  },
  {
   "cell_type": "markdown",
   "metadata": {},
   "source": [
    "In this project you, will analyze a dataset containing annual spending amounts for internal structure, to understand the variation in the different types of customers that a wholesale distributor interacts with.\n",
    "\n",
    "Instructions:\n",
    "\n",
    "- Run each code block below by pressing **Shift+Enter**, making sure to implement any steps marked with a TODO.\n",
    "- Answer each question in the space provided by editing the blocks labeled \"Answer:\".\n",
    "- When you are done, submit the completed notebook (.ipynb) with all code blocks executed, as well as a .pdf version (File > Download as)."
   ]
  },
  {
   "cell_type": "code",
   "execution_count": 1,
   "metadata": {
    "collapsed": false
   },
   "outputs": [
    {
     "name": "stdout",
     "output_type": "stream",
     "text": [
      "Dataset has 440 rows, 6 columns\n",
      "   Fresh  Milk  Grocery  Frozen  Detergents_Paper  Delicatessen\n",
      "0  12669  9656     7561     214              2674          1338\n",
      "1   7057  9810     9568    1762              3293          1776\n",
      "2   6353  8808     7684    2405              3516          7844\n",
      "3  13265  1196     4221    6404               507          1788\n",
      "4  22615  5410     7198    3915              1777          5185\n"
     ]
    }
   ],
   "source": [
    "# Import libraries: NumPy, pandas, matplotlib\n",
    "import numpy as np\n",
    "import pandas as pd\n",
    "import matplotlib.pyplot as plt\n",
    "\n",
    "# Tell iPython to include plots inline in the notebook\n",
    "%matplotlib inline\n",
    "\n",
    "# Read dataset\n",
    "data = pd.read_csv(\"wholesale-customers.csv\")\n",
    "print \"Dataset has {} rows, {} columns\".format(*data.shape)\n",
    "print data.head()  # print the first 5 rows"
   ]
  },
  {
   "cell_type": "markdown",
   "metadata": {},
   "source": [
    "##Feature Transformation"
   ]
  },
  {
   "cell_type": "markdown",
   "metadata": {},
   "source": [
    "**1)** In this section you will be using PCA and ICA to start to understand the structure of the data. Before doing any computations, what do you think will show up in your computations? List one or two ideas for what might show up as the first PCA dimensions, or what type of vectors will show up as ICA dimensions."
   ]
  },
  {
   "cell_type": "markdown",
   "metadata": {},
   "source": [
    "Answer:\n",
    "One of the first PCA dimensions could be the correlation between fresh and frozen, as fresh increases, we may expect frozen to decrease.\n",
    "The ICA dimensions will have one element with a significantly larger magnitude than the rest"
   ]
  },
  {
   "cell_type": "markdown",
   "metadata": {},
   "source": [
    "###PCA"
   ]
  },
  {
   "cell_type": "code",
   "execution_count": 13,
   "metadata": {
    "collapsed": false
   },
   "outputs": [
    {
     "name": "stdout",
     "output_type": "stream",
     "text": [
      "      Fresh      Milk   Grocery    Frozen  Detergents_Paper  Delicatessen\n",
      "0 -0.976537 -0.121184 -0.061540 -0.152365          0.007054     -0.068105\n",
      "1 -0.110614  0.515802  0.764606 -0.018723          0.365351      0.057079\n",
      "2 -0.178557  0.509887 -0.275781  0.714200         -0.204410      0.283217\n",
      "3 -0.041876 -0.645640  0.375460  0.646292          0.149380     -0.020396\n",
      "4  0.015986  0.203236 -0.160292  0.220186          0.207930     -0.917077\n",
      "5 -0.015763  0.033492  0.410939 -0.013289         -0.871284     -0.265417\n",
      "\n",
      "\n",
      "[ 0.45961362  0.40517227  0.07003008  0.04402344  0.01502212  0.00613848]\n"
     ]
    }
   ],
   "source": [
    "# TODO: Apply PCA with the same number of dimensions as variables in the dataset\n",
    "from sklearn.decomposition import PCA\n",
    "pca = PCA(n_components=6)\n",
    "pca.fit(data)\n",
    "\n",
    "\n",
    "# Print the components and the amount of variance in the data contained in each dimension\n",
    "# new_data = pca.transform(data)\n",
    "# new_data_centered = preprocessing.scale(new_data)\n",
    "# plt.scatter(new_data[:,0], new_data[:,1])\n",
    "# plt.show()\n",
    "\n",
    "# plt.scatter(new_data_centered[:,0], new_data_centered[:,1])\n",
    "# plt.show()\n",
    "\n",
    "print pd.DataFrame(pca.components_, columns=list(data.columns))\n",
    "print \"\\n\"\n",
    "print pca.explained_variance_ratio_"
   ]
  },
  {
   "cell_type": "markdown",
   "metadata": {},
   "source": [
    "**2)** How quickly does the variance drop off by dimension? If you were to use PCA on this dataset, how many dimensions would you choose for your analysis? Why?"
   ]
  },
  {
   "cell_type": "markdown",
   "metadata": {
    "collapsed": true
   },
   "source": [
    "Answer: \n",
    "The variance drops off very quickly after the second principal component.  If using PCA on this dataset, I would select two dimensions for analysis. The goal of PCA is to reduce the number of dimensions while keeping the maximum amount of information possible.  Using just the first two dimensions, we are able to explain roughly 86% of the variation in the data."
   ]
  },
  {
   "cell_type": "markdown",
   "metadata": {},
   "source": [
    "**3)** What do the dimensions seem to represent? How can you use this information?"
   ]
  },
  {
   "cell_type": "markdown",
   "metadata": {
    "collapsed": true
   },
   "source": [
    "Answer: \n",
    "The first dimension is made up of mostly Fresh, and to a lesser degree Milk and Frozen.  These could potentially be \"healthy\" grocery store customers (like a Whole Foods).\n",
    "\n",
    "The second dimension is made up of Grocery, then Milk, then Detergents_Paper. These could represent customers which are similar to convenience stores.\n",
    "\n",
    "We can use this information to reduce the number of features from six down to two.  We can remove the dimensions with the least amount of information, and represent the data in only two dimensions. This in turn avoids the curse of dimensionality, and also simplifies computation within applied machine learning algorithms.\n"
   ]
  },
  {
   "cell_type": "markdown",
   "metadata": {},
   "source": [
    "###ICA"
   ]
  },
  {
   "cell_type": "code",
   "execution_count": 14,
   "metadata": {
    "collapsed": false
   },
   "outputs": [
    {
     "name": "stdout",
     "output_type": "stream",
     "text": [
      "      Fresh      Milk   Grocery    Frozen  Detergents_Paper  Delicatessen\n",
      "0 -0.003779  0.017044  0.114363 -0.007097         -0.134320     -0.016143\n",
      "1  0.050228 -0.006338 -0.005963 -0.003283          0.009856     -0.002933\n",
      "2  0.010930  0.001036 -0.007347 -0.054050          0.002641      0.016767\n",
      "3 -0.001942 -0.072575  0.055168  0.001763         -0.015817      0.017061\n",
      "4 -0.004882 -0.001618 -0.005699 -0.002532          0.002428      0.050965\n",
      "5 -0.002655  0.013881 -0.061187 -0.001982          0.004058      0.004122\n"
     ]
    }
   ],
   "source": [
    "# TODO: Fit an ICA model to the data\n",
    "# Note: Adjust the data to have center at the origin first!\n",
    "from sklearn import preprocessing\n",
    "data_centered = preprocessing.scale(data)\n",
    "\n",
    "from sklearn.decomposition import FastICA\n",
    "ica = FastICA(n_components=6, random_state=1)\n",
    "ica.fit_transform(data_centered)\n",
    "\n",
    "# Print the independent components\n",
    "print pd.DataFrame(ica.components_, columns=list(data.columns))\n"
   ]
  },
  {
   "cell_type": "markdown",
   "metadata": {},
   "source": [
    "**4)** For each vector in the ICA decomposition, write a sentence or two explaining what sort of object or property it corresponds to. What could these components be used for?"
   ]
  },
  {
   "cell_type": "markdown",
   "metadata": {
    "collapsed": true
   },
   "source": [
    "Answer: \n",
    "Fresh  Milk  Grocery  Frozen  Detergents_Paper  Delicatessen\n",
    "The first vector is comprised of Grocery and not Detergents_Paper.  This could correspond to restaurant customers.\n",
    "The second vector is comprised almost entirely of Fresh.  These could represent the \"healthy\" grocery stores.\n",
    "The third vector is comprised of Fresh and Delicatessen, and not Frozen.  These could also correspond to restaurant customers.\n",
    "The fourth vector is comprised of Grocery and not Milk.  This could correspond to large super-stores like Walmart or Target.\n",
    "The fifth vector is comprised almost entirely of Delicatessen.  These could correspond to sandwich shops (or delis).\n",
    "The sixth vector is comprised of Milk and not Grocery.  This could correspond to ice cream parlor customers.\n",
    "\n",
    "These components can be used as new features which are statisically independent.  This is extremely helpful when attempting classification or generating decision boundaries."
   ]
  },
  {
   "cell_type": "markdown",
   "metadata": {},
   "source": [
    "##Clustering\n",
    "\n",
    "In this section you will choose either K Means clustering or Gaussian Mixed Models clustering, which implements expectation-maximization. Then you will sample elements from the clusters to understand their significance."
   ]
  },
  {
   "cell_type": "markdown",
   "metadata": {},
   "source": [
    "###Choose a Cluster Type\n",
    "\n",
    "**5)** What are the advantages of using K Means clustering or Gaussian Mixture Models?"
   ]
  },
  {
   "cell_type": "markdown",
   "metadata": {},
   "source": [
    "Answer: \n",
    "The main advantage of using K Means clustering is that it may be computationally faster than other clustering algorithms.\n",
    "WHAT ELSE??"
   ]
  },
  {
   "cell_type": "markdown",
   "metadata": {},
   "source": [
    "**6)** Below is some starter code to help you visualize some cluster data. The visualization is based on [this demo](http://scikit-learn.org/stable/auto_examples/cluster/plot_kmeans_digits.html) from the sklearn documentation."
   ]
  },
  {
   "cell_type": "code",
   "execution_count": 57,
   "metadata": {
    "collapsed": true
   },
   "outputs": [],
   "source": [
    "# Import clustering modules\n",
    "from sklearn.cluster import KMeans\n",
    "from sklearn.mixture import GMM"
   ]
  },
  {
   "cell_type": "code",
   "execution_count": 62,
   "metadata": {
    "collapsed": false
   },
   "outputs": [
    {
     "name": "stdout",
     "output_type": "stream",
     "text": [
      "[[-0.97653685 -0.12118407 -0.06154039 -0.15236462  0.00705417 -0.06810471]\n",
      " [-0.11061386  0.51580216  0.76460638 -0.01872345  0.36535076  0.05707921]]\n",
      "[ 0.45961362  0.40517227]\n",
      "[[  -650.02212207   1585.51909007]\n",
      " [  4426.80497937   4042.45150884]\n",
      " [  4841.9987068    2578.762176  ]\n",
      " [  -990.34643689  -6279.80599663]\n",
      " [-10657.99873116  -2159.72581518]\n",
      " [  2765.96159271   -959.87072713]\n",
      " [   715.55089221  -2013.00226567]\n",
      " [  4474.58366697   1429.49697204]\n",
      " [  6712.09539718  -2205.90915598]\n",
      " [  4823.63435407  13480.55920489]]\n"
     ]
    }
   ],
   "source": [
    "# TODO: First we reduce the data to two dimensions using PCA to capture variation\n",
    "kMeansPCA = PCA(n_components=2)\n",
    "kMeansPCA.fit(data)\n",
    "\n",
    "# Print the components and the amount of variance in the data contained in each dimension\n",
    "reduced_data = kMeansPCA.transform(data)\n",
    "print kMeansPCA.components_\n",
    "print kMeansPCA.explained_variance_ratio_\n",
    "print reduced_data[:10]  # print upto 10 elements"
   ]
  },
  {
   "cell_type": "code",
   "execution_count": 72,
   "metadata": {
    "collapsed": false
   },
   "outputs": [
    {
     "name": "stdout",
     "output_type": "stream",
     "text": [
      "KMeans(copy_x=True, init='k-means++', max_iter=300, n_clusters=8, n_init=10,\n",
      "    n_jobs=1, precompute_distances='auto', random_state=None, tol=0.0001,\n",
      "    verbose=0)\n"
     ]
    }
   ],
   "source": [
    "# TODO: Implement your clustering algorithm here, and fit it to the reduced data for visualization\n",
    "# The visualizer below assumes your clustering object is named 'clusters'\n",
    "clusters = KMeans(n_clusters=8)\n",
    "clusters.fit(reduced_data)\n",
    "# clusters = kmean.cluster_centers_\n",
    "print clusters"
   ]
  },
  {
   "cell_type": "code",
   "execution_count": 73,
   "metadata": {
    "collapsed": false
   },
   "outputs": [],
   "source": [
    "# Plot the decision boundary by building a mesh grid to populate a graph.\n",
    "x_min, x_max = reduced_data[:, 0].min() - 1, reduced_data[:, 0].max() + 1\n",
    "y_min, y_max = reduced_data[:, 1].min() - 1, reduced_data[:, 1].max() + 1\n",
    "hx = (x_max-x_min)/1000.\n",
    "hy = (y_max-y_min)/1000.\n",
    "xx, yy = np.meshgrid(np.arange(x_min, x_max, hx), np.arange(y_min, y_max, hy))\n",
    "\n",
    "# Obtain labels for each point in mesh. Use last trained model.\n",
    "Z = clusters.predict(np.c_[xx.ravel(), yy.ravel()])"
   ]
  },
  {
   "cell_type": "code",
   "execution_count": 74,
   "metadata": {
    "collapsed": false
   },
   "outputs": [
    {
     "name": "stdout",
     "output_type": "stream",
     "text": [
      "[[  7855.70387893  -5357.47365718]\n",
      " [  2787.06628956  24275.2601508 ]\n",
      " [-31677.01702205  -6255.39517189]\n",
      " [  7012.62228466   6928.39601904]\n",
      " [-14389.27388383  -2507.41605083]\n",
      " [-20964.64986166  68819.21772923]\n",
      " [-74982.98228094  -1461.38586695]\n",
      " [ -2900.14423445  -6032.43569237]]\n"
     ]
    }
   ],
   "source": [
    "# TODO: Find the centroids for KMeans or the cluster means for GMM \n",
    "\n",
    "centroids = clusters.cluster_centers_ \n",
    "print centroids"
   ]
  },
  {
   "cell_type": "code",
   "execution_count": 75,
   "metadata": {
    "collapsed": false
   },
   "outputs": [
    {
     "data": {
      "image/png": "[encoded data removed]",
      "text/plain": [
       "<matplotlib.figure.Figure at 0x115cd2190>"
      ]
     },
     "metadata": {},
     "output_type": "display_data"
    }
   ],
   "source": [
    "# Put the result into a color plot\n",
    "Z = Z.reshape(xx.shape)\n",
    "plt.figure(1)\n",
    "plt.clf()\n",
    "plt.imshow(Z, interpolation='nearest',\n",
    "           extent=(xx.min(), xx.max(), yy.min(), yy.max()),\n",
    "           cmap=plt.cm.Paired,\n",
    "           aspect='auto', origin='lower')\n",
    "\n",
    "plt.plot(reduced_data[:, 0], reduced_data[:, 1], 'k.', markersize=2)\n",
    "plt.scatter(centroids[:, 0], centroids[:, 1],\n",
    "            marker='x', s=169, linewidths=3,\n",
    "            color='w', zorder=10)\n",
    "plt.title('Clustering on the wholesale grocery dataset (PCA-reduced data)\\n'\n",
    "          'Centroids are marked with white cross')\n",
    "plt.xlim(x_min, x_max)\n",
    "plt.ylim(y_min, y_max)\n",
    "plt.xticks(())\n",
    "plt.yticks(())\n",
    "plt.show()"
   ]
  },
  {
   "cell_type": "markdown",
   "metadata": {},
   "source": [
    "**7)** What are the central objects in each cluster? Describe them as customers."
   ]
  },
  {
   "cell_type": "markdown",
   "metadata": {
    "collapsed": true
   },
   "source": [
    "Answer: \n",
    "The central object in each cluster is the data point that minimizes the distance between itself and every other point in the cluster.\n",
    "\n",
    "It ideally represents the average customer within that cluster."
   ]
  },
  {
   "cell_type": "markdown",
   "metadata": {},
   "source": [
    "###Conclusions\n",
    "\n",
    "** 8)** Which of these techniques did you feel gave you the most insight into the data?"
   ]
  },
  {
   "cell_type": "markdown",
   "metadata": {
    "collapsed": true
   },
   "source": [
    "Answer: "
   ]
  },
  {
   "cell_type": "markdown",
   "metadata": {
    "collapsed": true
   },
   "source": [
    "**9)** How would you use that technique to help the company design new experiments?"
   ]
  },
  {
   "cell_type": "markdown",
   "metadata": {},
   "source": [
    "Answer: "
   ]
  },
  {
   "cell_type": "markdown",
   "metadata": {},
   "source": [
    "**10)** How would you use that data to help you predict future customer needs?"
   ]
  },
  {
   "cell_type": "markdown",
   "metadata": {},
   "source": [
    "Answer: "
   ]
  },
  {
   "cell_type": "code",
   "execution_count": 2,
   "metadata": {
    "collapsed": true
   },
   "outputs": [],
   "source": [
    "def biplot(df):\n",
    "    # Fit on 2 components\n",
    "    from sklearn.decomposition import PCA\n",
    "    pca = PCA(n_components=2, whiten=True).fit(df)\n",
    "    \n",
    "    # Plot transformed/projected data\n",
    "    ax = pd.DataFrame(\n",
    "        pca.transform(df),\n",
    "        columns=['PC1', 'PC2']\n",
    "    ).plot(kind='scatter', x='PC1', y='PC2', figsize=(10, 8), s=0.8)\n",
    "\n",
    "    # Plot arrows and labels\n",
    "    for i, (pc1, pc2) in enumerate(zip(pca.components_[0], pca.components_[1])):\n",
    "        ax.arrow(0, 0, pc1, pc2, width=0.001, fc='orange', ec='orange')\n",
    "        ax.annotate(df.columns[i], (pc1, pc2), size=12)\n",
    "\n",
    "    return ax"
   ]
  },
  {
   "cell_type": "code",
   "execution_count": 3,
   "metadata": {
    "collapsed": false
   },
   "outputs": [
    {
     "data": {
      "text/plain": [
       "(-0.25, 1)"
      ]
     },
     "execution_count": 3,
     "metadata": {},
     "output_type": "execute_result"
    },
    {
     "data": {
      "image/png": "[encoded data removed]",
      "text/plain": [
       "<matplotlib.figure.Figure at 0x113b20990>"
      ]
     },
     "metadata": {},
     "output_type": "display_data"
    }
   ],
   "source": [
    "ax = biplot(data)\n",
    "# Play around with the ranges for scaling the plot\n",
    "ax.set_xlim([-1.1, .5])\n",
    "ax.set_ylim([-.25, 1])"
   ]
  },
  {
   "cell_type": "code",
   "execution_count": null,
   "metadata": {
    "collapsed": true
   },
   "outputs": [],
   "source": []
  }
 ],
 "metadata": {
  "kernelspec": {
   "display_name": "Python 2",
   "language": "python",
   "name": "python2"
  },
  "language_info": {
   "codemirror_mode": {
    "name": "ipython",
    "version": 2
   },
   "file_extension": ".py",
   "mimetype": "text/x-python",
   "name": "python",
   "nbconvert_exporter": "python",
   "pygments_lexer": "ipython2",
   "version": "2.7.6"
  }
 },
 "nbformat": 4,
 "nbformat_minor": 0
}
